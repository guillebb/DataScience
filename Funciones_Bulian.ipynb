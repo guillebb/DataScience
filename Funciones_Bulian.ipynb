{
  "nbformat": 4,
  "nbformat_minor": 0,
  "metadata": {
    "colab": {
      "name": "Funciones Bulian.ipynb",
      "provenance": []
    },
    "kernelspec": {
      "name": "python3",
      "display_name": "Python 3"
    },
    "language_info": {
      "name": "python"
    }
  },
  "cells": [
    {
      "cell_type": "markdown",
      "source": [
        "1- Escribir una función para calcular el factorial de un número cualquiera"
      ],
      "metadata": {
        "id": "O6aE0r9qp6gn"
      }
    },
    {
      "cell_type": "code",
      "execution_count": null,
      "metadata": {
        "colab": {
          "base_uri": "https://localhost:8080/"
        },
        "id": "xL0uUDZsp133",
        "outputId": "24d55b32-114c-4c33-d62a-a0528aa4370c"
      },
      "outputs": [
        {
          "output_type": "stream",
          "name": "stdout",
          "text": [
            "6\n"
          ]
        }
      ],
      "source": [
        "z=1\n",
        "for i in range(1,3+1):\n",
        "    z*=i\n",
        "print(z)"
      ]
    },
    {
      "cell_type": "code",
      "source": [
        "def factorial(x):\n",
        "  z=1\n",
        "  for i in range(1,x+1):\n",
        "    z*=i\n",
        "  return z"
      ],
      "metadata": {
        "id": "e4ngi_-AqZzy"
      },
      "execution_count": null,
      "outputs": []
    },
    {
      "cell_type": "code",
      "source": [
        "factorial(3)"
      ],
      "metadata": {
        "colab": {
          "base_uri": "https://localhost:8080/"
        },
        "id": "75YViEOzqkAm",
        "outputId": "e1540f72-de39-4cdf-856a-eba71bac0134"
      },
      "execution_count": null,
      "outputs": [
        {
          "output_type": "execute_result",
          "data": {
            "text/plain": [
              "6"
            ]
          },
          "metadata": {},
          "execution_count": 22
        }
      ]
    },
    {
      "cell_type": "markdown",
      "source": [
        "2- Escribir una función para calcular la suma de una serie comenzando por un número cualquiera y terminando en otro número que debe ser mayor al primero.\n"
      ],
      "metadata": {
        "id": "cHm-awb3qq62"
      }
    },
    {
      "cell_type": "code",
      "source": [
        "serie= [1,2,3,4,5]\n",
        "z= sum(serie)\n",
        "print(z)"
      ],
      "metadata": {
        "colab": {
          "base_uri": "https://localhost:8080/"
        },
        "id": "G_cSoDvjqugy",
        "outputId": "68021b17-b1b6-4b46-c43e-574b20a7547f"
      },
      "execution_count": null,
      "outputs": [
        {
          "output_type": "stream",
          "name": "stdout",
          "text": [
            "15\n"
          ]
        }
      ]
    },
    {
      "cell_type": "code",
      "source": [
        "list(range(1,5))"
      ],
      "metadata": {
        "colab": {
          "base_uri": "https://localhost:8080/"
        },
        "id": "JtMaKFbFrAM6",
        "outputId": "d74384e6-e3f9-463f-b7d7-606ad6072405"
      },
      "execution_count": null,
      "outputs": [
        {
          "output_type": "execute_result",
          "data": {
            "text/plain": [
              "[1, 2, 3, 4]"
            ]
          },
          "metadata": {},
          "execution_count": 24
        }
      ]
    },
    {
      "cell_type": "code",
      "source": [
        "def suma(x,y):\n",
        "  z= list(range(x,y+1))\n",
        "  resultado=sum(z)\n",
        "  return resultado"
      ],
      "metadata": {
        "id": "zqfVl-farSgy"
      },
      "execution_count": null,
      "outputs": []
    },
    {
      "cell_type": "code",
      "source": [
        "suma(1,5)"
      ],
      "metadata": {
        "colab": {
          "base_uri": "https://localhost:8080/"
        },
        "id": "AaH4i4z7rgNZ",
        "outputId": "bd88562d-c186-4c66-963a-9526855e7fd6"
      },
      "execution_count": null,
      "outputs": [
        {
          "output_type": "execute_result",
          "data": {
            "text/plain": [
              "15"
            ]
          },
          "metadata": {},
          "execution_count": 26
        }
      ]
    }
  ]
}