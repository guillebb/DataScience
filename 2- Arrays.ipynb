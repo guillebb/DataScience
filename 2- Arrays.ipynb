{
 "cells": [
  {
   "cell_type": "markdown",
   "id": "d70bb59b",
   "metadata": {},
   "source": [
    "1.Generar un array aleatorio de 100 elementos. Calcular la mediana correspondiente."
   ]
  },
  {
   "cell_type": "code",
   "execution_count": 1,
   "id": "e1a3fd17",
   "metadata": {},
   "outputs": [],
   "source": [
    "import numpy as np"
   ]
  },
  {
   "cell_type": "code",
   "execution_count": 2,
   "id": "29b8e2d2",
   "metadata": {},
   "outputs": [
    {
     "data": {
      "text/plain": [
       "array([[37, 42,  7, 17,  4, 23, 22, 25, 25, 42, 38, 14, 41,  8, 31,  8,\n",
       "        19,  5, 10, 31, 41,  0, 12, 40, 32,  2, 11, 33, 22,  7, 42, 47,\n",
       "        34, 37, 44, 49, 32, 30, 30, 25, 26, 37, 28, 24, 29, 28, 10, 17,\n",
       "        37,  2, 35, 45, 44, 37, 23, 40, 49, 10, 10, 28, 25, 24, 12, 14,\n",
       "         4, 40, 19, 10, 39, 14, 22, 44,  2,  4, 16, 22, 47, 46, 18,  2,\n",
       "        11, 18, 28,  4, 19, 33, 46, 30,  8, 39, 20, 47, 34, 10, 30,  3,\n",
       "         7,  9, 15, 11]])"
      ]
     },
     "execution_count": 2,
     "metadata": {},
     "output_type": "execute_result"
    }
   ],
   "source": [
    "np.random.randint(50, size=(1,100))"
   ]
  },
  {
   "cell_type": "code",
   "execution_count": 3,
   "id": "0a8b14d3",
   "metadata": {},
   "outputs": [
    {
     "data": {
      "text/plain": [
       "28.0"
      ]
     },
     "execution_count": 3,
     "metadata": {},
     "output_type": "execute_result"
    }
   ],
   "source": [
    "np.median(np.random.randint(50, size=(100)))"
   ]
  },
  {
   "cell_type": "markdown",
   "id": "31cc0ee7",
   "metadata": {},
   "source": [
    "2.Recordar los ejercicios con funciones para cálculo de factorial y suma de serie de la Clase 02. Repetir ambos ejercicios, pero ahora utilizar las nuevas operaciones aprendidas con los ndarrays"
   ]
  },
  {
   "cell_type": "code",
   "execution_count": 34,
   "id": "7c8b36dd",
   "metadata": {},
   "outputs": [
    {
     "data": {
      "text/plain": [
       "6"
      ]
     },
     "execution_count": 34,
     "metadata": {},
     "output_type": "execute_result"
    }
   ],
   "source": [
    "import math\n",
    "math.factorial(3)"
   ]
  },
  {
   "cell_type": "code",
   "execution_count": 5,
   "id": "c2329b35",
   "metadata": {},
   "outputs": [],
   "source": [
    "arreglo = np.array([1,2,3,4,5])"
   ]
  },
  {
   "cell_type": "code",
   "execution_count": 6,
   "id": "ea701e65",
   "metadata": {},
   "outputs": [
    {
     "name": "stdout",
     "output_type": "stream",
     "text": [
      "15\n"
     ]
    }
   ],
   "source": [
    "suma = arreglo.sum()\n",
    "print(str(suma))"
   ]
  },
  {
   "cell_type": "markdown",
   "id": "03533fe8",
   "metadata": {},
   "source": [
    "3. En este link se provee un archivo con los resultados de la Encuesta de Sueldos de Openqube de Febrero 2020. Calcular y comparar media y mediana de los sueldos netos."
   ]
  },
  {
   "cell_type": "code",
   "execution_count": 3,
   "id": "4360ef71",
   "metadata": {},
   "outputs": [],
   "source": [
    "import pandas as pd"
   ]
  },
  {
   "cell_type": "code",
   "execution_count": 4,
   "id": "7496fd53",
   "metadata": {},
   "outputs": [],
   "source": [
    "df = pd.read_csv('Salarios.csv', sep=';', encoding='latin-1',header=0)"
   ]
  },
  {
   "cell_type": "code",
   "execution_count": 20,
   "id": "e830e8b1",
   "metadata": {},
   "outputs": [
    {
     "data": {
      "text/plain": [
       "Index(['Timestamp', 'Me identifico', 'Tengo', 'Estoy trabajando en',\n",
       "       'Dónde estás trabajando', 'Bolivia', 'Chile', 'Colombia', 'Cuba',\n",
       "       'Costa Rica', 'Ecuador', 'El Salvador', 'Guatemala', 'Honduras',\n",
       "       'México', 'Nicaragua', 'Panamá', 'Paraguay', 'Perú', 'Puerto Rico',\n",
       "       'República Dominicana', 'Uruguay', 'Venezuela', 'Años de experiencia',\n",
       "       'Años en la empresa actual', 'Años en el puesto actual',\n",
       "       '¿Gente a cargo?', 'Nivel de estudios alcanzado', 'Estado', 'Carrera',\n",
       "       'Universidad', 'Realizaste cursos de especialización',\n",
       "       '¿Contribuís a proyectos open source?', '¿Programás como hobbie?',\n",
       "       'Trabajo de', 'Plataformas', 'Lenguajes de programación',\n",
       "       'Frameworks, herramientas y librerías', 'Bases de datos',\n",
       "       'QA / Testing', 'IDEs', '¿Qué SO usás en tu laptop/PC para trabajar?',\n",
       "       '¿Y en tu celular?', '¿Tenés guardias?', 'Cuánto cobrás por guardia',\n",
       "       '¿Porcentaje, bruto o neto?', 'Tipo de contrato',\n",
       "       'Salario mensual BRUTO (en tu moneda local)',\n",
       "       'Salario mensual NETO (en tu moneda local)', 'Unnamed: 49',\n",
       "       '¿Qué tan conforme estás con tu sueldo?',\n",
       "       'Cómo creés que está tu sueldo con respecto al último semestre',\n",
       "       'Recibís algún tipo de bono', 'A qué está atado el bono',\n",
       "       '¿Tuviste ajustes por inflación en lo que va de 2020?',\n",
       "       '¿De qué % fue el ajuste total?', '¿En qué mes fue el último ajuste?',\n",
       "       '¿Sufriste o presenciaste situaciones de violencia laboral?',\n",
       "       'Orientación sexual', '¿Tenés algún tipo de discapacidad?',\n",
       "       '¿Sentís que esto te dificultó el conseguir trabajo?',\n",
       "       '¿Sos miembro de alguna comunidad IT?',\n",
       "       '¿Escuchás algún podcast de IT?',\n",
       "       '¿A qué eventos de tecnología asististe en los últimos 12 meses?',\n",
       "       'Cantidad de empleados', 'Actividad principal',\n",
       "       '¿La recomendás como un buen lugar para trabajar?',\n",
       "       '¿Cómo calificás las políticas de diversidad e inclusión?',\n",
       "       'Beneficios extra', '¿Cómo venís llevando la cuarentena?',\n",
       "       '¿Tenés hijos/as menores de edad?',\n",
       "       '¿Con cuántas personas estás conviviendo?', '¿Con quiénes convivís?',\n",
       "       '¿Tenés un espacio dedicado para el trabajo?',\n",
       "       '¿Tenés que compartir tu equipo de trabajo con alguien?',\n",
       "       '¿Qué tipo de cuarentena estás haciendo?',\n",
       "       '¿Cambió tu situación laboral a raíz de la pandemia?',\n",
       "       '¿Qué tanto sentís que te está apoyando tu empresa en esta situación?',\n",
       "       '¿Cómo se vio afectada tu empresa?',\n",
       "       '¿Instauraron algún beneficio nuevo?',\n",
       "       '¿Cuáles considerás que son las mejores empresas de IT para trabajar en este momento, en tu ciudad?'],\n",
       "      dtype='object')"
      ]
     },
     "execution_count": 20,
     "metadata": {},
     "output_type": "execute_result"
    }
   ],
   "source": [
    "df.columns"
   ]
  },
  {
   "cell_type": "code",
   "execution_count": 21,
   "id": "e4b1c796",
   "metadata": {},
   "outputs": [],
   "source": [
    "salarios = salario.apply(pd.to_numeric, errors= 'coerce', downcast =None)"
   ]
  },
  {
   "cell_type": "code",
   "execution_count": 22,
   "id": "4d631f26",
   "metadata": {},
   "outputs": [
    {
     "data": {
      "text/plain": [
       "dtype('float64')"
      ]
     },
     "execution_count": 22,
     "metadata": {},
     "output_type": "execute_result"
    }
   ],
   "source": [
    "salarios.dtype"
   ]
  },
  {
   "cell_type": "code",
   "execution_count": 23,
   "id": "66a63d8d",
   "metadata": {},
   "outputs": [
    {
     "data": {
      "text/plain": [
       "0        43000.000\n",
       "1        63000.000\n",
       "2       127000.000\n",
       "3       102000.000\n",
       "4       106000.000\n",
       "           ...    \n",
       "6410     97000.000\n",
       "6411     71000.000\n",
       "6412        45.753\n",
       "6413        72.000\n",
       "6414     65000.000\n",
       "Name: Salario mensual NETO (en tu moneda local), Length: 6415, dtype: float64"
      ]
     },
     "execution_count": 23,
     "metadata": {},
     "output_type": "execute_result"
    }
   ],
   "source": [
    "salarios"
   ]
  },
  {
   "cell_type": "code",
   "execution_count": 24,
   "id": "a474c820",
   "metadata": {},
   "outputs": [
    {
     "data": {
      "text/plain": [
       "0        43000.0\n",
       "1        63000.0\n",
       "2       127000.0\n",
       "3       102000.0\n",
       "4       106000.0\n",
       "          ...   \n",
       "6410     97000.0\n",
       "6411     71000.0\n",
       "6412      45.753\n",
       "6413        72.0\n",
       "6414     65000.0\n",
       "Name: Salario mensual NETO (en tu moneda local), Length: 6415, dtype: object"
      ]
     },
     "execution_count": 24,
     "metadata": {},
     "output_type": "execute_result"
    }
   ],
   "source": [
    "salarios.astype(str, errors = 'raise')"
   ]
  },
  {
   "cell_type": "code",
   "execution_count": 37,
   "id": "f3765849",
   "metadata": {},
   "outputs": [
    {
     "data": {
      "text/plain": [
       "76000.0"
      ]
     },
     "execution_count": 37,
     "metadata": {},
     "output_type": "execute_result"
    }
   ],
   "source": [
    "mediana = salarios.median()\n",
    "mediana"
   ]
  },
  {
   "cell_type": "code",
   "execution_count": 38,
   "id": "854b4e4e",
   "metadata": {},
   "outputs": [
    {
     "data": {
      "text/plain": [
       "233434.44615009683"
      ]
     },
     "execution_count": 38,
     "metadata": {},
     "output_type": "execute_result"
    }
   ],
   "source": [
    "media = salarios.mean()\n",
    "media"
   ]
  }
 ],
 "metadata": {
  "kernelspec": {
   "display_name": "Python 3 (ipykernel)",
   "language": "python",
   "name": "python3"
  },
  "language_info": {
   "codemirror_mode": {
    "name": "ipython",
    "version": 3
   },
   "file_extension": ".py",
   "mimetype": "text/x-python",
   "name": "python",
   "nbconvert_exporter": "python",
   "pygments_lexer": "ipython3",
   "version": "3.9.7"
  }
 },
 "nbformat": 4,
 "nbformat_minor": 5
}
